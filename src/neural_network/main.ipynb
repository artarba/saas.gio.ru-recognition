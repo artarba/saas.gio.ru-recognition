{
 "cells": [
  {
   "cell_type": "code",
   "execution_count": null,
   "metadata": {},
   "outputs": [],
   "source": [
    "import tensorflow"
   ]
  },
  {
   "cell_type": "code",
   "execution_count": 5,
   "metadata": {},
   "outputs": [],
   "source": [
    "import shutil\n",
    "import os"
   ]
  },
  {
   "cell_type": "code",
   "execution_count": 47,
   "metadata": {},
   "outputs": [],
   "source": [
    "# Каталог с набором данных\n",
    "data_dir = r'/home/maksim/PycharmProjects/network/class'\n",
    "# Каталог с данными для обучения\n",
    "train_dir = r'/home/maksim/PycharmProjects/network/train'\n",
    "# Каталог с данными для проверки\n",
    "val_dir = r'/home/maksim/PycharmProjects/network/val'\n",
    "# Каталог с данными для тестирования\n",
    "test_dir = r'/home/maksim/PycharmProjects/network/test'\n",
    "# Часть набора данных для тестирования\n",
    "test_data_portion = 0.3\n",
    "# Часть набора данных для проверки\n",
    "val_data_portion = 0.3\n",
    "# Количество элементов данных в одном классе\n",
    "nb_images = 128"
   ]
  },
  {
   "cell_type": "code",
   "execution_count": 48,
   "metadata": {},
   "outputs": [],
   "source": [
    "def create_directory(dir_name):\n",
    "    if os.path.exists(dir_name):\n",
    "        shutil.rmtree(dir_name)\n",
    "        print('g')\n",
    "    os.makedirs(dir_name)\n",
    "    os.makedirs(os.path.join(dir_name, \"100\"))\n",
    "    os.makedirs(os.path.join(dir_name, \"invalid\"))"
   ]
  },
  {
   "cell_type": "code",
   "execution_count": 49,
   "metadata": {},
   "outputs": [],
   "source": [
    "create_directory(train_dir)\n",
    "create_directory(val_dir)\n",
    "create_directory(test_dir)"
   ]
  },
  {
   "cell_type": "code",
   "execution_count": 50,
   "metadata": {},
   "outputs": [],
   "source": [
    "def copy_images(start_index, end_index, source_dir, dest_dir):\n",
    "    for i in range(start_index, end_index):\n",
    "        shutil.copy2(os.path.join(source_dir, \"hundred\" + str(i) + '.jpg'), \n",
    "                    os.path.join(dest_dir, \"100\"))\n",
    "        shutil.copy2(os.path.join(source_dir, \"invalid\" + str(i) + '.jpg'), \n",
    "                   os.path.join(dest_dir, \"invalid\"))"
   ]
  },
  {
   "cell_type": "code",
   "execution_count": 51,
   "metadata": {},
   "outputs": [
    {
     "name": "stdout",
     "output_type": "stream",
     "text": [
      "51\n",
      "89\n"
     ]
    }
   ],
   "source": [
    "start_val_data_idx = int(nb_images * (1 - val_data_portion - test_data_portion))\n",
    "start_test_data_idx = int(nb_images * (1 - test_data_portion))\n",
    "print(start_val_data_idx)\n",
    "print(start_test_data_idx)"
   ]
  },
  {
   "cell_type": "code",
   "execution_count": 52,
   "metadata": {
    "scrolled": true
   },
   "outputs": [],
   "source": [
    "copy_images(0, start_val_data_idx, data_dir, train_dir)\n",
    "copy_images(start_val_data_idx, start_test_data_idx, data_dir, val_dir)\n",
    "copy_images(start_test_data_idx, nb_images, data_dir, test_dir)"
   ]
  },
  {
   "cell_type": "markdown",
   "metadata": {},
   "source": [
    "# Обучение"
   ]
  },
  {
   "cell_type": "code",
   "execution_count": 56,
   "metadata": {},
   "outputs": [],
   "source": [
    "from tensorflow.python.keras.preprocessing.image import ImageDataGenerator\n",
    "from tensorflow.python.keras.models import Sequential\n",
    "from tensorflow.python.keras.layers import Conv2D, MaxPooling2D\n",
    "from tensorflow.python.keras.layers import Activation, Dropout, Flatten, Dense"
   ]
  },
  {
   "cell_type": "code",
   "execution_count": 15,
   "metadata": {},
   "outputs": [
    {
     "data": {
      "text/plain": [
       "'2.4.3'"
      ]
     },
     "execution_count": 15,
     "metadata": {},
     "output_type": "execute_result"
    }
   ],
   "source": [
    "f"
   ]
  },
  {
   "cell_type": "code",
   "execution_count": 62,
   "metadata": {},
   "outputs": [],
   "source": [
    "# Каталог с данными для обучения\n",
    "train_dir = r'/home/maksim/PycharmProjects/network/train'\n",
    "# Каталог с данными для проверки\n",
    "val_dir = r'/home/maksim/PycharmProjects/network/val'\n",
    "# Каталог с данными для тестирования\n",
    "test_dir = r'/home/maksim/PycharmProjects/network/test'\n",
    "# Размеры изображения\n",
    "img_width, img_height = 90, 45\n",
    "# Размерность тензора на основе изображения для входных данных в нейронную сеть\n",
    "# backend Tensorflow, channels_last\n",
    "input_shape = (img_width, img_height, 3)\n",
    "# Количество эпох\n",
    "epochs = 30\n",
    "# Размер мини-выборки\n",
    "batch_size = 16\n",
    "# Количество изображений для обучения\n",
    "nb_train_samples = 109\n",
    "# Количество изображений для проверки\n",
    "nb_validation_samples = 24\n",
    "# Количество изображений для тестирования\n",
    "nb_test_samples = 24"
   ]
  },
  {
   "cell_type": "code",
   "execution_count": 63,
   "metadata": {},
   "outputs": [],
   "source": [
    "model = Sequential()\n",
    "model.add(Conv2D(32, (3, 3), input_shape=input_shape))\n",
    "model.add(Activation('relu'))\n",
    "model.add(MaxPooling2D(pool_size=(2, 2)))\n",
    "\n",
    "model.add(Conv2D(32, (3, 3)))\n",
    "model.add(Activation('relu'))\n",
    "model.add(MaxPooling2D(pool_size=(2, 2)))\n",
    "\n",
    "model.add(Conv2D(64, (3, 3)))\n",
    "model.add(Activation('relu'))\n",
    "model.add(MaxPooling2D(pool_size=(2, 2)))\n",
    "\n",
    "model.add(Flatten())\n",
    "model.add(Dense(64))\n",
    "model.add(Activation('relu'))\n",
    "model.add(Dropout(0.5))\n",
    "model.add(Dense(1))\n",
    "model.add(Activation('sigmoid'))"
   ]
  },
  {
   "cell_type": "code",
   "execution_count": 64,
   "metadata": {},
   "outputs": [],
   "source": [
    "model.compile(loss='binary_crossentropy',\n",
    "              optimizer='adam',\n",
    "              metrics=['accuracy'])"
   ]
  },
  {
   "cell_type": "code",
   "execution_count": 65,
   "metadata": {},
   "outputs": [],
   "source": [
    "datagen = ImageDataGenerator(rescale=1. / 255)"
   ]
  },
  {
   "cell_type": "code",
   "execution_count": 66,
   "metadata": {},
   "outputs": [
    {
     "name": "stdout",
     "output_type": "stream",
     "text": [
      "Found 102 images belonging to 2 classes.\n"
     ]
    }
   ],
   "source": [
    "train_generator = datagen.flow_from_directory(\n",
    "    train_dir,\n",
    "    target_size=(img_width, img_height),\n",
    "    batch_size=batch_size,\n",
    "    class_mode='binary')"
   ]
  },
  {
   "cell_type": "code",
   "execution_count": 85,
   "metadata": {},
   "outputs": [],
   "source": [
    "val_generator = datagen.flow_from_directory(\n",
    "    val_dir,\n",
    "    target_size=(img_width, img_height),\n",
    "    batch_size=batch_size,\n",
    "    class_mode='binary')"
   ]
  },
  {
   "cell_type": "code",
   "execution_count": 68,
   "metadata": {},
   "outputs": [
    {
     "name": "stdout",
     "output_type": "stream",
     "text": [
      "Found 78 images belonging to 2 classes.\n"
     ]
    }
   ],
   "source": [
    "test_generator = datagen.flow_from_directory(\n",
    "    test_dir,\n",
    "    target_size=(img_width, img_height),\n",
    "    batch_size=batch_size,\n",
    "    class_mode='binary')"
   ]
  },
  {
   "cell_type": "code",
   "execution_count": 70,
   "metadata": {},
   "outputs": [
    {
     "name": "stdout",
     "output_type": "stream",
     "text": [
      "Epoch 1/30\n",
      "6/6 [==============================] - 0s 47ms/step - loss: 0.0978 - accuracy: 0.9651 - val_loss: 0.2595 - val_accuracy: 0.9375\n",
      "Epoch 2/30\n",
      "6/6 [==============================] - 0s 48ms/step - loss: 0.0162 - accuracy: 1.0000 - val_loss: 0.1947 - val_accuracy: 0.9375\n",
      "Epoch 3/30\n",
      "6/6 [==============================] - 0s 53ms/step - loss: 0.0671 - accuracy: 0.9884 - val_loss: 0.1777 - val_accuracy: 0.9375\n",
      "Epoch 4/30\n",
      "6/6 [==============================] - 0s 50ms/step - loss: 0.0412 - accuracy: 0.9767 - val_loss: 0.1075 - val_accuracy: 0.9375\n",
      "Epoch 5/30\n",
      "6/6 [==============================] - 0s 73ms/step - loss: 0.0300 - accuracy: 0.9896 - val_loss: 0.0037 - val_accuracy: 1.0000\n",
      "Epoch 6/30\n",
      "6/6 [==============================] - 0s 51ms/step - loss: 0.0730 - accuracy: 0.9884 - val_loss: 0.3399 - val_accuracy: 0.8750\n",
      "Epoch 7/30\n",
      "6/6 [==============================] - 0s 56ms/step - loss: 0.1216 - accuracy: 0.9688 - val_loss: 0.0288 - val_accuracy: 1.0000\n",
      "Epoch 8/30\n",
      "6/6 [==============================] - 0s 52ms/step - loss: 0.0650 - accuracy: 0.9896 - val_loss: 0.7524 - val_accuracy: 0.8750\n",
      "Epoch 9/30\n",
      "6/6 [==============================] - 0s 60ms/step - loss: 0.0676 - accuracy: 0.9884 - val_loss: 0.8655 - val_accuracy: 0.8750\n",
      "Epoch 10/30\n",
      "6/6 [==============================] - 0s 69ms/step - loss: 0.0550 - accuracy: 0.9896 - val_loss: 0.4476 - val_accuracy: 0.9375\n",
      "Epoch 11/30\n",
      "6/6 [==============================] - 0s 52ms/step - loss: 0.0611 - accuracy: 0.9884 - val_loss: 0.0038 - val_accuracy: 1.0000\n",
      "Epoch 12/30\n",
      "6/6 [==============================] - 0s 57ms/step - loss: 0.0208 - accuracy: 1.0000 - val_loss: 0.5374 - val_accuracy: 0.8750\n",
      "Epoch 13/30\n",
      "6/6 [==============================] - 0s 61ms/step - loss: 0.0127 - accuracy: 1.0000 - val_loss: 0.0032 - val_accuracy: 1.0000\n",
      "Epoch 14/30\n",
      "6/6 [==============================] - 0s 70ms/step - loss: 0.0298 - accuracy: 0.9884 - val_loss: 0.0046 - val_accuracy: 1.0000\n",
      "Epoch 15/30\n",
      "6/6 [==============================] - 0s 57ms/step - loss: 0.0992 - accuracy: 0.9767 - val_loss: 0.0512 - val_accuracy: 0.9375\n",
      "Epoch 16/30\n",
      "6/6 [==============================] - 0s 60ms/step - loss: 0.0265 - accuracy: 1.0000 - val_loss: 0.6456 - val_accuracy: 0.9375\n",
      "Epoch 17/30\n",
      "6/6 [==============================] - 0s 58ms/step - loss: 0.0729 - accuracy: 0.9767 - val_loss: 0.0135 - val_accuracy: 1.0000\n",
      "Epoch 18/30\n",
      "6/6 [==============================] - 0s 57ms/step - loss: 0.0334 - accuracy: 0.9884 - val_loss: 0.6461 - val_accuracy: 0.8125\n",
      "Epoch 19/30\n",
      "6/6 [==============================] - 0s 57ms/step - loss: 0.0454 - accuracy: 0.9884 - val_loss: 0.0097 - val_accuracy: 1.0000\n",
      "Epoch 20/30\n",
      "6/6 [==============================] - 0s 49ms/step - loss: 0.0218 - accuracy: 0.9884 - val_loss: 0.2208 - val_accuracy: 0.9375\n",
      "Epoch 21/30\n",
      "6/6 [==============================] - 0s 71ms/step - loss: 0.0112 - accuracy: 1.0000 - val_loss: 0.2415 - val_accuracy: 0.8750\n",
      "Epoch 22/30\n",
      "6/6 [==============================] - 0s 65ms/step - loss: 0.0489 - accuracy: 0.9884 - val_loss: 0.6932 - val_accuracy: 0.9375\n",
      "Epoch 23/30\n",
      "6/6 [==============================] - 0s 69ms/step - loss: 0.0130 - accuracy: 1.0000 - val_loss: 0.7677 - val_accuracy: 0.9375\n",
      "Epoch 24/30\n",
      "6/6 [==============================] - 0s 53ms/step - loss: 0.0167 - accuracy: 1.0000 - val_loss: 0.0074 - val_accuracy: 1.0000\n",
      "Epoch 25/30\n",
      "6/6 [==============================] - 0s 61ms/step - loss: 0.0163 - accuracy: 1.0000 - val_loss: 1.3041 - val_accuracy: 0.8125\n",
      "Epoch 26/30\n",
      "6/6 [==============================] - 0s 54ms/step - loss: 0.0053 - accuracy: 1.0000 - val_loss: 0.1047 - val_accuracy: 0.9375\n",
      "Epoch 27/30\n",
      "6/6 [==============================] - 0s 54ms/step - loss: 0.0889 - accuracy: 0.9767 - val_loss: 0.1601 - val_accuracy: 0.9375\n",
      "Epoch 28/30\n",
      "6/6 [==============================] - 0s 74ms/step - loss: 0.0136 - accuracy: 1.0000 - val_loss: 0.1805 - val_accuracy: 0.9375\n",
      "Epoch 29/30\n",
      "6/6 [==============================] - 0s 58ms/step - loss: 0.0272 - accuracy: 0.9792 - val_loss: 0.5938 - val_accuracy: 0.8750\n",
      "Epoch 30/30\n",
      "6/6 [==============================] - 0s 79ms/step - loss: 0.0174 - accuracy: 1.0000 - val_loss: 0.3648 - val_accuracy: 0.8750\n"
     ]
    }
   ],
   "source": [
    "fitted_model = model.fit_generator(\n",
    "    train_generator,\n",
    "    steps_per_epoch=nb_train_samples // batch_size,\n",
    "    epochs=epochs,\n",
    "    validation_data=val_generator,\n",
    "    validation_steps=nb_validation_samples // batch_size)"
   ]
  },
  {
   "cell_type": "code",
   "execution_count": 71,
   "metadata": {},
   "outputs": [
    {
     "name": "stdout",
     "output_type": "stream",
     "text": [
      "WARNING:tensorflow:From <ipython-input-71-95bfb2ba4b2e>:1: Model.evaluate_generator (from tensorflow.python.keras.engine.training) is deprecated and will be removed in a future version.\n",
      "Instructions for updating:\n",
      "Please use Model.evaluate, which supports generators.\n"
     ]
    }
   ],
   "source": [
    "scores = model.evaluate_generator(test_generator, nb_test_samples // batch_size)"
   ]
  },
  {
   "cell_type": "code",
   "execution_count": 73,
   "metadata": {},
   "outputs": [
    {
     "name": "stdout",
     "output_type": "stream",
     "text": [
      "100.00%\n"
     ]
    }
   ],
   "source": [
    "print(\"%.2f%%\" % (scores[1]*100))"
   ]
  },
  {
   "cell_type": "code",
   "execution_count": 83,
   "metadata": {},
   "outputs": [],
   "source": [
    "from tensorflow.keras.preprocessing import image\n",
    "import numpy as np\n",
    "def testing_image(image_directory):\n",
    "    test_image = image.load_img(image_directory, target_size = (90, 45))\n",
    "    test_image = image.img_to_array(test_image)\n",
    "    test_image = np.expand_dims(test_image, axis = 0)\n",
    "    result = model.predict(x = test_image)\n",
    "    if result[0][0]  == 1:\n",
    "        prediction = 'invalid'\n",
    "    else:\n",
    "        prediction = '100'\n",
    "    return prediction"
   ]
  },
  {
   "cell_type": "code",
   "execution_count": 95,
   "metadata": {},
   "outputs": [
    {
     "name": "stdout",
     "output_type": "stream",
     "text": [
      "100\n"
     ]
    }
   ],
   "source": [
    "import os\n",
    "main_path = os.getcwd()\n",
    "fds = od.lidtdir(main_path + )\n",
    "\n",
    "print(testing_image('/home/maksim/PycharmProjects/network/for_bonus/' + 'lp.8.jpg'))\n",
    "\n"
   ]
  },
  {
   "cell_type": "code",
   "execution_count": null,
   "metadata": {},
   "outputs": [],
   "source": []
  }
 ],
 "metadata": {
  "kernelspec": {
   "display_name": "Python 3",
   "language": "python",
   "name": "python3"
  },
  "language_info": {
   "codemirror_mode": {
    "name": "ipython",
    "version": 3
   },
   "file_extension": ".py",
   "mimetype": "text/x-python",
   "name": "python",
   "nbconvert_exporter": "python",
   "pygments_lexer": "ipython3",
   "version": "3.7.6"
  }
 },
 "nbformat": 4,
 "nbformat_minor": 4
}
